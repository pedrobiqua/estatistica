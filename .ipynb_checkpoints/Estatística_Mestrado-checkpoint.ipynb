{
 "cells": [
  {
   "cell_type": "markdown",
   "metadata": {
    "id": "2L_177gHTYZM"
   },
   "source": [
    "# Estatistica\n",
    "\n",
    "Base de dados utilizado: https://dados.gov.br/dados/conjuntos-dados/crimes-violentos"
   ]
  },
  {
   "cell_type": "code",
   "execution_count": 1,
   "metadata": {
    "id": "-_o54CYhmgMI"
   },
   "outputs": [
    {
     "name": "stdout",
     "output_type": "stream",
     "text": [
      "--2025-05-25 16:08:40--  https://dados.mg.gov.br/dataset/87e4675b-bb0a-444a-ba0f-1463b893d01a/resource/bd02f7db-04cc-4149-98ee-e6fb2e713b04/download/crimes_violentos_2024.csv\n",
      "Resolving dados.mg.gov.br (dados.mg.gov.br)... 200.198.49.165\n",
      "Connecting to dados.mg.gov.br (dados.mg.gov.br)|200.198.49.165|:443... connected.\n",
      "HTTP request sent, awaiting response... 200 OK\n",
      "Length: 8304502 (7.9M) [text/csv]\n",
      "Saving to: ‘crimes_violentos_2024.csv’\n",
      "\n",
      "crimes_violentos_20 100%[===================>]   7.92M  2.61MB/s    in 3.0s    \n",
      "\n",
      "2025-05-25 16:09:11 (2.61 MB/s) - ‘crimes_violentos_2024.csv’ saved [8304502/8304502]\n",
      "\n"
     ]
    }
   ],
   "source": [
    "# !wget https://dados.mg.gov.br/dataset/87e4675b-bb0a-444a-ba0f-1463b893d01a/resource/bd02f7db-04cc-4149-98ee-e6fb2e713b04/download/crimes_violentos_2024.csv"
   ]
  },
  {
   "cell_type": "code",
   "execution_count": 2,
   "metadata": {
    "id": "772PkyKoSt_8"
   },
   "outputs": [],
   "source": [
    "import numpy as np\n",
    "import pandas as pd\n",
    "import matplotlib.pyplot as plt\n",
    "\n",
    "df = pd.read_csv('crimes_violentos_2024.csv', sep=';')"
   ]
  },
  {
   "cell_type": "code",
   "execution_count": 3,
   "metadata": {
    "colab": {
     "base_uri": "https://localhost:8080/",
     "height": 424
    },
    "id": "sYaJv-S1Vbxm",
    "outputId": "4d121a70-08f9-49be-918f-b97e5009be18"
   },
   "outputs": [
    {
     "data": {
      "text/html": [
       "<div>\n",
       "<style scoped>\n",
       "    .dataframe tbody tr th:only-of-type {\n",
       "        vertical-align: middle;\n",
       "    }\n",
       "\n",
       "    .dataframe tbody tr th {\n",
       "        vertical-align: top;\n",
       "    }\n",
       "\n",
       "    .dataframe thead th {\n",
       "        text-align: right;\n",
       "    }\n",
       "</style>\n",
       "<table border=\"1\" class=\"dataframe\">\n",
       "  <thead>\n",
       "    <tr style=\"text-align: right;\">\n",
       "      <th></th>\n",
       "      <th>registros</th>\n",
       "      <th>natureza</th>\n",
       "      <th>municipio</th>\n",
       "      <th>cod_municipio</th>\n",
       "      <th>mes</th>\n",
       "      <th>ano</th>\n",
       "      <th>risp</th>\n",
       "      <th>rmbh</th>\n",
       "    </tr>\n",
       "  </thead>\n",
       "  <tbody>\n",
       "    <tr>\n",
       "      <th>0</th>\n",
       "      <td>0</td>\n",
       "      <td>Estupro Consumado</td>\n",
       "      <td>ABADIA DOS DOURADOS</td>\n",
       "      <td>310010</td>\n",
       "      <td>1</td>\n",
       "      <td>2024</td>\n",
       "      <td>10</td>\n",
       "      <td>NÃO</td>\n",
       "    </tr>\n",
       "    <tr>\n",
       "      <th>1</th>\n",
       "      <td>0</td>\n",
       "      <td>Estupro Consumado</td>\n",
       "      <td>ABAETE</td>\n",
       "      <td>310020</td>\n",
       "      <td>1</td>\n",
       "      <td>2024</td>\n",
       "      <td>7</td>\n",
       "      <td>NÃO</td>\n",
       "    </tr>\n",
       "    <tr>\n",
       "      <th>2</th>\n",
       "      <td>0</td>\n",
       "      <td>Estupro Consumado</td>\n",
       "      <td>ABRE-CAMPO</td>\n",
       "      <td>310030</td>\n",
       "      <td>1</td>\n",
       "      <td>2024</td>\n",
       "      <td>12</td>\n",
       "      <td>NÃO</td>\n",
       "    </tr>\n",
       "    <tr>\n",
       "      <th>3</th>\n",
       "      <td>0</td>\n",
       "      <td>Estupro Consumado</td>\n",
       "      <td>ACAIACA</td>\n",
       "      <td>310040</td>\n",
       "      <td>1</td>\n",
       "      <td>2024</td>\n",
       "      <td>12</td>\n",
       "      <td>NÃO</td>\n",
       "    </tr>\n",
       "    <tr>\n",
       "      <th>4</th>\n",
       "      <td>1</td>\n",
       "      <td>Estupro Consumado</td>\n",
       "      <td>ACUCENA</td>\n",
       "      <td>310050</td>\n",
       "      <td>1</td>\n",
       "      <td>2024</td>\n",
       "      <td>12</td>\n",
       "      <td>NÃO</td>\n",
       "    </tr>\n",
       "    <tr>\n",
       "      <th>...</th>\n",
       "      <td>...</td>\n",
       "      <td>...</td>\n",
       "      <td>...</td>\n",
       "      <td>...</td>\n",
       "      <td>...</td>\n",
       "      <td>...</td>\n",
       "      <td>...</td>\n",
       "      <td>...</td>\n",
       "    </tr>\n",
       "    <tr>\n",
       "      <th>133063</th>\n",
       "      <td>0</td>\n",
       "      <td>Homicídio Consumado (Registros)</td>\n",
       "      <td>VIRGOLANDIA</td>\n",
       "      <td>317190</td>\n",
       "      <td>12</td>\n",
       "      <td>2024</td>\n",
       "      <td>8</td>\n",
       "      <td>NÃO</td>\n",
       "    </tr>\n",
       "    <tr>\n",
       "      <th>133064</th>\n",
       "      <td>0</td>\n",
       "      <td>Homicídio Consumado (Registros)</td>\n",
       "      <td>VISCONDE DO RIO BRANCO</td>\n",
       "      <td>317200</td>\n",
       "      <td>12</td>\n",
       "      <td>2024</td>\n",
       "      <td>4</td>\n",
       "      <td>NÃO</td>\n",
       "    </tr>\n",
       "    <tr>\n",
       "      <th>133065</th>\n",
       "      <td>0</td>\n",
       "      <td>Homicídio Consumado (Registros)</td>\n",
       "      <td>VOLTA GRANDE</td>\n",
       "      <td>317210</td>\n",
       "      <td>12</td>\n",
       "      <td>2024</td>\n",
       "      <td>4</td>\n",
       "      <td>NÃO</td>\n",
       "    </tr>\n",
       "    <tr>\n",
       "      <th>133066</th>\n",
       "      <td>0</td>\n",
       "      <td>Homicídio Consumado (Registros)</td>\n",
       "      <td>WENCESLAU BRAZ</td>\n",
       "      <td>317220</td>\n",
       "      <td>12</td>\n",
       "      <td>2024</td>\n",
       "      <td>17</td>\n",
       "      <td>NÃO</td>\n",
       "    </tr>\n",
       "    <tr>\n",
       "      <th>133067</th>\n",
       "      <td>31</td>\n",
       "      <td>Homicídio Consumado (Registros)</td>\n",
       "      <td>BELO HORIZONTE</td>\n",
       "      <td>310620</td>\n",
       "      <td>12</td>\n",
       "      <td>2024</td>\n",
       "      <td>1</td>\n",
       "      <td>NÃO</td>\n",
       "    </tr>\n",
       "  </tbody>\n",
       "</table>\n",
       "<p>133068 rows × 8 columns</p>\n",
       "</div>"
      ],
      "text/plain": [
       "        registros                         natureza               municipio  \\\n",
       "0               0                Estupro Consumado     ABADIA DOS DOURADOS   \n",
       "1               0                Estupro Consumado                  ABAETE   \n",
       "2               0                Estupro Consumado              ABRE-CAMPO   \n",
       "3               0                Estupro Consumado                 ACAIACA   \n",
       "4               1                Estupro Consumado                 ACUCENA   \n",
       "...           ...                              ...                     ...   \n",
       "133063          0  Homicídio Consumado (Registros)             VIRGOLANDIA   \n",
       "133064          0  Homicídio Consumado (Registros)  VISCONDE DO RIO BRANCO   \n",
       "133065          0  Homicídio Consumado (Registros)            VOLTA GRANDE   \n",
       "133066          0  Homicídio Consumado (Registros)          WENCESLAU BRAZ   \n",
       "133067         31  Homicídio Consumado (Registros)          BELO HORIZONTE   \n",
       "\n",
       "        cod_municipio  mes   ano  risp rmbh  \n",
       "0              310010    1  2024    10  NÃO  \n",
       "1              310020    1  2024     7  NÃO  \n",
       "2              310030    1  2024    12  NÃO  \n",
       "3              310040    1  2024    12  NÃO  \n",
       "4              310050    1  2024    12  NÃO  \n",
       "...               ...  ...   ...   ...  ...  \n",
       "133063         317190   12  2024     8  NÃO  \n",
       "133064         317200   12  2024     4  NÃO  \n",
       "133065         317210   12  2024     4  NÃO  \n",
       "133066         317220   12  2024    17  NÃO  \n",
       "133067         310620   12  2024     1  NÃO  \n",
       "\n",
       "[133068 rows x 8 columns]"
      ]
     },
     "execution_count": 3,
     "metadata": {},
     "output_type": "execute_result"
    }
   ],
   "source": [
    "df"
   ]
  },
  {
   "cell_type": "markdown",
   "metadata": {
    "id": "p7VQzej5llM3"
   },
   "source": [
    "Obs: Para o exercicio 1 eu restringi a minha análise para o municipio de Belo Horizonte com crimes de Homicídio Consumado (Registros) para eu poder replicar no caderno para exercitar fazendo as contas e passos no caderno."
   ]
  },
  {
   "cell_type": "code",
   "execution_count": 4,
   "metadata": {
    "colab": {
     "base_uri": "https://localhost:8080/",
     "height": 461
    },
    "id": "rO55MK-GVAe-",
    "outputId": "d88b9130-b6de-4151-fc53-935ecfb59624"
   },
   "outputs": [
    {
     "data": {
      "text/plain": [
       "123684    17\n",
       "124537    26\n",
       "129655    26\n",
       "130508    26\n",
       "126243    27\n",
       "125390    28\n",
       "127949    28\n",
       "131361    28\n",
       "132214    29\n",
       "128802    30\n",
       "133067    31\n",
       "127096    34\n",
       "Name: registros, dtype: int64"
      ]
     },
     "execution_count": 4,
     "metadata": {},
     "output_type": "execute_result"
    }
   ],
   "source": [
    "# Exercicio 1: Tabela de distribuição de frequencia\n",
    "\n",
    "# Base de dados\n",
    "df_bh = df[df['municipio'].str.upper() == 'BELO HORIZONTE']\n",
    "df_bh_homicidio = df_bh[df_bh['natureza'] == 'Homicídio Consumado (Registros)']\n",
    "\n",
    "df_dados = df_bh_homicidio['registros']\n",
    "df_dados.sort_values()"
   ]
  },
  {
   "cell_type": "code",
   "execution_count": 5,
   "metadata": {
    "colab": {
     "base_uri": "https://localhost:8080/"
    },
    "id": "QdYGJwczetzp",
    "outputId": "fa9baaea-320a-48f3-8562-8631262709b6"
   },
   "outputs": [
    {
     "name": "stdout",
     "output_type": "stream",
     "text": [
      "amplitude total=17 k=4 h=4.25\n",
      "\n",
      " Tabela de Distribuição de Frequência\n",
      "\n",
      "          Classe  Frequência (fi)  Pontos Médios (xi)  \\\n",
      "0  17.00 ⊢ 21.25                1              19.125   \n",
      "1  21.25 ⊢ 25.50                0              23.375   \n",
      "2  25.50 ⊢ 29.75                8              27.625   \n",
      "3  29.75 ⊢ 34.00                3              31.875   \n",
      "\n",
      "   Frequência Acumulada (Fi)  \n",
      "0                          1  \n",
      "1                          1  \n",
      "2                          9  \n",
      "3                         12  \n",
      "\n",
      "Somatório de fi: 12\n"
     ]
    }
   ],
   "source": [
    "# Deixar em rol/ordenar\n",
    "df_dados_rol = df_dados.sort_values()\n",
    "menor_valor = df_dados_rol.iloc[0]\n",
    "maior_valor = df_dados_rol.iloc[-1]\n",
    "\n",
    "# Obter a amplitude total\n",
    "amplitude_total = maior_valor - menor_valor\n",
    "\n",
    "# Quantidade de classes (Sturges)\n",
    "k = int(1 + 3.322 * np.log10(len(df_dados_rol)))\n",
    "\n",
    "# Amplitude de cada classe\n",
    "h = amplitude_total / k\n",
    "\n",
    "print(f'amplitude total={amplitude_total} k={k} h={h}')\n",
    "\n",
    "# Passo 1: criar os limites das classes\n",
    "limites_classes = [menor_valor + i * h for i in range(k + 1)]\n",
    "\n",
    "# Passo 2: calcular frequências\n",
    "frequencias, _ = np.histogram(df_dados_rol, bins=limites_classes)\n",
    "\n",
    "# Passo 3: calcular ponto médio de cada classe\n",
    "classes = []\n",
    "pontos_medios = []\n",
    "for i in range(k):\n",
    "    inferior = limites_classes[i]\n",
    "    superior = limites_classes[i + 1]\n",
    "    classes.append(f\"{inferior:.2f} ⊢ {superior:.2f}\")\n",
    "    pontos_medios.append((inferior + superior) / 2)\n",
    "\n",
    "# Frequência acumulada\n",
    "frequencia_acumulada = np.cumsum(frequencias)\n",
    "\n",
    "# Criar o DataFrame com a tabela\n",
    "tabela_frequencia = pd.DataFrame({\n",
    "    'Classe': classes,\n",
    "    'Frequência (fi)': frequencias,\n",
    "    'Pontos Médios (xi)': pontos_medios,\n",
    "    'Frequência Acumulada (Fi)': frequencia_acumulada\n",
    "})\n",
    "\n",
    "# Exibir a tabela\n",
    "print(\"\\n Tabela de Distribuição de Frequência\\n\")\n",
    "print(tabela_frequencia)\n",
    "\n",
    "# Somatório de fi\n",
    "print(f\"\\nSomatório de fi: {tabela_frequencia['Frequência (fi)'].sum()}\")"
   ]
  },
  {
   "cell_type": "code",
   "execution_count": 6,
   "metadata": {
    "colab": {
     "base_uri": "https://localhost:8080/",
     "height": 607
    },
    "id": "ybEPKZn1knAJ",
    "outputId": "e17a19eb-8b8d-4e73-ef13-998a78fc6c6a"
   },
   "outputs": [
    {
     "data": {
      "image/png": "[encoded data removed]",
      "text/plain": [
       "<Figure size 1000x600 with 1 Axes>"
      ]
     },
     "metadata": {},
     "output_type": "display_data"
    }
   ],
   "source": [
    "plt.figure(figsize=(10, 6))\n",
    "plt.bar(tabela_frequencia[\"Classe\"], tabela_frequencia[\"Frequência (fi)\"], color='skyblue', edgecolor='black')\n",
    "plt.xticks(rotation=45)\n",
    "plt.xlabel(\"Classe\")\n",
    "plt.ylabel(\"Frequência\")\n",
    "plt.title(\"Distribuição de Frequência\")\n",
    "plt.tight_layout()\n",
    "plt.show()\n"
   ]
  },
  {
   "cell_type": "code",
   "execution_count": null,
   "metadata": {
    "id": "5NHKz0MaqWaB"
   },
   "outputs": [],
   "source": []
  }
 ],
 "metadata": {
  "colab": {
   "provenance": [],
   "toc_visible": true
  },
  "kernelspec": {
   "display_name": "Python 3 (ipykernel)",
   "language": "python",
   "name": "python3"
  },
  "language_info": {
   "codemirror_mode": {
    "name": "ipython",
    "version": 3
   },
   "file_extension": ".py",
   "mimetype": "text/x-python",
   "name": "python",
   "nbconvert_exporter": "python",
   "pygments_lexer": "ipython3",
   "version": "3.11.6"
  }
 },
 "nbformat": 4,
 "nbformat_minor": 4
}
